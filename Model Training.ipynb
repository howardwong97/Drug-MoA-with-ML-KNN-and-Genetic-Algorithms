{
 "cells": [
  {
   "cell_type": "markdown",
   "metadata": {},
   "source": [
    "# Code Implementation\n",
    "\n",
    "We have defined two functions in `ml_knn.py`:\n",
    "\n",
    "- `get_folds` generates the Multi-Label Stratified K-Folds required for our cross-validation\n",
    "\n",
    "- `log_loss_score` fits a `KNeighborsClassifier` and we predict probabilities for *out-of-fold* samples. The function returns the accumulated log loss which will act as our \"fitness\" score for the genetic algorithm."
   ]
  },
  {
   "cell_type": "code",
   "execution_count": 1,
   "metadata": {},
   "outputs": [],
   "source": [
    "import os\n",
    "import numpy as np\n",
    "import pandas as pd\n",
    "from ml_knn import GeneticAlgorithm, EnsembleClassifier, oof_probas"
   ]
  },
  {
   "cell_type": "code",
   "execution_count": 2,
   "metadata": {},
   "outputs": [
    {
     "data": {
      "text/plain": [
       "(206, 875)"
      ]
     },
     "execution_count": 2,
     "metadata": {},
     "output_type": "execute_result"
    }
   ],
   "source": [
    "fnames = os.listdir('feature_subspaces')\n",
    "population = np.array([np.load(os.path.join('feature_subspaces', f)) for f in fnames])\n",
    "population.shape"
   ]
  },
  {
   "cell_type": "code",
   "execution_count": 3,
   "metadata": {},
   "outputs": [
    {
     "data": {
      "text/plain": [
       "((23814, 875), (23814, 207))"
      ]
     },
     "execution_count": 3,
     "metadata": {},
     "output_type": "execute_result"
    }
   ],
   "source": [
    "X = pd.read_csv('train_features.csv', index_col=0)\n",
    "y = pd.read_csv('train_targets_scored.csv')\n",
    "X.shape, y.shape"
   ]
  },
  {
   "cell_type": "code",
   "execution_count": 4,
   "metadata": {},
   "outputs": [],
   "source": [
    "X = X.replace({\n",
    "    'cp_type': {'trt_cp': -1.0, 'ctl_vehicle': 1.0},\n",
    "    'cp_time': {24: -1.0, 48: 0.0, 72: 1.0},\n",
    "    'cp_dose': {'D1': -1.0, 'D2': 1.0}\n",
    "})"
   ]
  },
  {
   "cell_type": "code",
   "execution_count": 5,
   "metadata": {},
   "outputs": [],
   "source": [
    "# model = GeneticAlgorithm(population)\n",
    "# model.fit(X, y, generations=20)\n",
    "# np.save('final_population.npy', model.population)"
   ]
  },
  {
   "cell_type": "code",
   "execution_count": 6,
   "metadata": {},
   "outputs": [
    {
     "data": {
      "text/plain": [
       "array([[ True,  True,  True, ..., False,  True, False],\n",
       "       [ True, False, False, ..., False,  True, False],\n",
       "       [ True,  True,  True, ..., False,  True, False],\n",
       "       ...,\n",
       "       [False, False,  True, ...,  True,  True,  True],\n",
       "       [ True,  True, False, ...,  True, False,  True],\n",
       "       [ True, False,  True, ..., False,  True, False]])"
      ]
     },
     "execution_count": 6,
     "metadata": {},
     "output_type": "execute_result"
    }
   ],
   "source": [
    "feature_subspaces = np.load('final_population.npy')\n",
    "feature_subspaces"
   ]
  },
  {
   "cell_type": "code",
   "execution_count": null,
   "metadata": {},
   "outputs": [
    {
     "name": "stdout",
     "output_type": "stream",
     "text": [
      "Fitting 100 models...\n"
     ]
    },
    {
     "data": {
      "application/vnd.jupyter.widget-view+json": {
       "model_id": "809e05526bd4441fb7a4220b8c19d98f",
       "version_major": 2,
       "version_minor": 0
      },
      "text/plain": [
       "HBox(children=(HTML(value=''), FloatProgress(value=0.0), HTML(value='')))"
      ]
     },
     "metadata": {},
     "output_type": "display_data"
    }
   ],
   "source": [
    "ensemble_clf = EnsembleClassifier(feature_subspaces, n_ensemble=100)\n",
    "ensemble_clf.fit(X, y, solution_per_population=16, eps=1e-20)"
   ]
  }
 ],
 "metadata": {
  "kernelspec": {
   "display_name": "Python 3",
   "language": "python",
   "name": "python3"
  },
  "language_info": {
   "codemirror_mode": {
    "name": "ipython",
    "version": 3
   },
   "file_extension": ".py",
   "mimetype": "text/x-python",
   "name": "python",
   "nbconvert_exporter": "python",
   "pygments_lexer": "ipython3",
   "version": "3.8.6"
  }
 },
 "nbformat": 4,
 "nbformat_minor": 4
}
